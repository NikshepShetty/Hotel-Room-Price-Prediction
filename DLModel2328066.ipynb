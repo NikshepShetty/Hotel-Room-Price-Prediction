{
 "cells": [
  {
   "cell_type": "code",
   "execution_count": 1,
   "metadata": {
    "colab": {
     "base_uri": "https://localhost:8080/"
    },
    "id": "bHyTv9muE7cp",
    "outputId": "0ea6d6f7-76fb-4852-995d-c8c7793a8b78"
   },
   "outputs": [
    {
     "name": "stdout",
     "output_type": "stream",
     "text": [
      "Mounted at /content/drive\n"
     ]
    }
   ],
   "source": [
    "from google.colab import drive\n",
    "drive.mount('/content/drive')"
   ]
  },
  {
   "cell_type": "code",
   "execution_count": 22,
   "metadata": {
    "id": "QigeGM7cEBbj"
   },
   "outputs": [],
   "source": [
    "# Importing libraries\n",
    "import tensorflow as tf\n",
    "from sklearn.model_selection import train_test_split\n",
    "from sklearn.preprocessing import StandardScaler\n",
    "from sklearn.metrics import mean_squared_error, mean_absolute_error\n",
    "import numpy as np\n",
    "import pandas as pd\n",
    "import keras\n",
    "import matplotlib.pyplot as plt"
   ]
  },
  {
   "cell_type": "code",
   "execution_count": 23,
   "metadata": {
    "id": "5VnwvV8a8Qon"
   },
   "outputs": [],
   "source": [
    "# Loading the dataset from google drive\n",
    "df = pd.read_csv('/content/drive/My Drive/post_eda_numerical_dataset1.csv')\n"
   ]
  },
  {
   "cell_type": "code",
   "execution_count": 24,
   "metadata": {
    "id": "KoYk1wHL8UJy"
   },
   "outputs": [],
   "source": [
    "# Setting features and target variable\n",
    "X = df.drop('avg_price_per_room', axis=1)\n",
    "y = df['avg_price_per_room'].values.reshape(-1, 1)"
   ]
  },
  {
   "cell_type": "code",
   "execution_count": 25,
   "metadata": {
    "id": "-pZzDEEWJBJN"
   },
   "outputs": [],
   "source": [
    "# Randomly split training data and test data with a ratio of 7:3\n",
    "X_train, X_test, y_train, y_test = train_test_split(X, y, test_size=0.3, random_state=42)"
   ]
  },
  {
   "cell_type": "code",
   "execution_count": 26,
   "metadata": {
    "id": "rXyjyKoY8W5a"
   },
   "outputs": [],
   "source": [
    "scaler = StandardScaler()\n",
    "scaler.fit(X_train)\n",
    "\n",
    "# Feature Scaling\n",
    "X_train = scaler.transform(X_train)\n",
    "X_test = scaler.transform(X_test)\n"
   ]
  },
  {
   "cell_type": "code",
   "execution_count": 27,
   "metadata": {
    "colab": {
     "base_uri": "https://localhost:8080/"
    },
    "id": "T9ByQ1e2-mgk",
    "outputId": "3ee13bbc-bea7-4a61-8a01-a0e8db3784b3"
   },
   "outputs": [
    {
     "name": "stdout",
     "output_type": "stream",
     "text": [
      "Epoch 1/100\n",
      "396/396 - 3s - loss: 1523.4475 - val_loss: 576.3418 - 3s/epoch - 6ms/step\n",
      "Epoch 2/100\n",
      "396/396 - 2s - loss: 477.0230 - val_loss: 476.1852 - 2s/epoch - 5ms/step\n",
      "Epoch 3/100\n",
      "396/396 - 1s - loss: 447.8934 - val_loss: 576.8058 - 927ms/epoch - 2ms/step\n",
      "Epoch 4/100\n",
      "396/396 - 1s - loss: 430.3199 - val_loss: 417.8924 - 980ms/epoch - 2ms/step\n",
      "Epoch 5/100\n",
      "396/396 - 1s - loss: 413.9915 - val_loss: 394.9764 - 919ms/epoch - 2ms/step\n",
      "Epoch 6/100\n",
      "396/396 - 1s - loss: 409.8192 - val_loss: 389.5421 - 1s/epoch - 3ms/step\n",
      "Epoch 7/100\n",
      "396/396 - 2s - loss: 392.3267 - val_loss: 439.7425 - 2s/epoch - 5ms/step\n",
      "Epoch 8/100\n",
      "396/396 - 2s - loss: 393.7378 - val_loss: 404.2983 - 2s/epoch - 4ms/step\n",
      "Epoch 9/100\n",
      "396/396 - 1s - loss: 374.8782 - val_loss: 383.4065 - 1s/epoch - 3ms/step\n",
      "Epoch 10/100\n",
      "396/396 - 1s - loss: 370.9686 - val_loss: 413.8062 - 1s/epoch - 3ms/step\n",
      "Epoch 11/100\n",
      "396/396 - 1s - loss: 373.8975 - val_loss: 417.9455 - 978ms/epoch - 2ms/step\n",
      "Epoch 12/100\n",
      "396/396 - 1s - loss: 377.4963 - val_loss: 381.7939 - 1000ms/epoch - 3ms/step\n",
      "Epoch 13/100\n",
      "396/396 - 1s - loss: 361.0634 - val_loss: 420.9881 - 1s/epoch - 3ms/step\n",
      "Epoch 14/100\n",
      "396/396 - 1s - loss: 356.3409 - val_loss: 367.2632 - 955ms/epoch - 2ms/step\n",
      "Epoch 15/100\n",
      "396/396 - 1s - loss: 352.1760 - val_loss: 364.9196 - 909ms/epoch - 2ms/step\n",
      "Epoch 16/100\n",
      "396/396 - 1s - loss: 352.3797 - val_loss: 360.7643 - 861ms/epoch - 2ms/step\n",
      "Epoch 17/100\n",
      "396/396 - 1s - loss: 349.5472 - val_loss: 426.8536 - 898ms/epoch - 2ms/step\n",
      "Epoch 18/100\n",
      "396/396 - 1s - loss: 340.9403 - val_loss: 371.3150 - 957ms/epoch - 2ms/step\n",
      "Epoch 19/100\n",
      "396/396 - 1s - loss: 344.3397 - val_loss: 382.5945 - 1s/epoch - 3ms/step\n",
      "Epoch 20/100\n",
      "396/396 - 2s - loss: 338.6319 - val_loss: 358.2041 - 2s/epoch - 4ms/step\n",
      "Epoch 21/100\n",
      "396/396 - 2s - loss: 341.2516 - val_loss: 361.4591 - 2s/epoch - 5ms/step\n",
      "Epoch 22/100\n",
      "396/396 - 1s - loss: 334.3954 - val_loss: 360.4219 - 928ms/epoch - 2ms/step\n",
      "Epoch 23/100\n",
      "396/396 - 1s - loss: 334.6910 - val_loss: 389.5649 - 946ms/epoch - 2ms/step\n",
      "Epoch 24/100\n",
      "396/396 - 1s - loss: 325.3240 - val_loss: 350.6158 - 1s/epoch - 3ms/step\n",
      "Epoch 25/100\n",
      "396/396 - 1s - loss: 330.3620 - val_loss: 351.2775 - 984ms/epoch - 2ms/step\n",
      "Epoch 26/100\n",
      "396/396 - 1s - loss: 328.8678 - val_loss: 382.2466 - 914ms/epoch - 2ms/step\n",
      "Epoch 27/100\n",
      "396/396 - 1s - loss: 326.5677 - val_loss: 354.9300 - 992ms/epoch - 3ms/step\n",
      "Epoch 28/100\n",
      "396/396 - 1s - loss: 324.6661 - val_loss: 353.0640 - 1s/epoch - 3ms/step\n",
      "Epoch 29/100\n",
      "396/396 - 1s - loss: 317.7914 - val_loss: 373.9158 - 988ms/epoch - 2ms/step\n",
      "Epoch 30/100\n",
      "396/396 - 1s - loss: 319.6437 - val_loss: 348.9486 - 1s/epoch - 3ms/step\n",
      "Epoch 31/100\n",
      "396/396 - 1s - loss: 323.8756 - val_loss: 357.6959 - 1s/epoch - 3ms/step\n",
      "Epoch 32/100\n",
      "396/396 - 2s - loss: 313.9579 - val_loss: 381.9931 - 2s/epoch - 4ms/step\n",
      "Epoch 33/100\n",
      "396/396 - 2s - loss: 314.4983 - val_loss: 370.7495 - 2s/epoch - 4ms/step\n",
      "Epoch 34/100\n",
      "396/396 - 1s - loss: 312.1094 - val_loss: 369.7290 - 1s/epoch - 3ms/step\n",
      "Epoch 35/100\n",
      "396/396 - 1s - loss: 317.6066 - val_loss: 355.6032 - 1s/epoch - 3ms/step\n",
      "Epoch 36/100\n",
      "396/396 - 1s - loss: 310.9009 - val_loss: 342.1589 - 987ms/epoch - 2ms/step\n",
      "Epoch 37/100\n",
      "396/396 - 1s - loss: 315.7139 - val_loss: 344.2037 - 999ms/epoch - 3ms/step\n",
      "Epoch 38/100\n",
      "396/396 - 1s - loss: 310.3504 - val_loss: 355.3580 - 1s/epoch - 3ms/step\n",
      "Epoch 39/100\n",
      "396/396 - 1s - loss: 307.9098 - val_loss: 363.2137 - 1s/epoch - 3ms/step\n",
      "Epoch 40/100\n",
      "396/396 - 1s - loss: 304.8027 - val_loss: 367.0833 - 1s/epoch - 3ms/step\n",
      "Epoch 41/100\n",
      "396/396 - 1s - loss: 304.6781 - val_loss: 348.0000 - 1s/epoch - 3ms/step\n",
      "Epoch 42/100\n",
      "396/396 - 1s - loss: 305.1165 - val_loss: 380.1636 - 1s/epoch - 3ms/step\n",
      "Epoch 43/100\n",
      "396/396 - 1s - loss: 301.4992 - val_loss: 364.7700 - 1s/epoch - 4ms/step\n",
      "Epoch 44/100\n",
      "396/396 - 2s - loss: 304.5609 - val_loss: 356.4401 - 2s/epoch - 5ms/step\n",
      "Epoch 45/100\n",
      "396/396 - 1s - loss: 302.5408 - val_loss: 365.0202 - 1s/epoch - 3ms/step\n",
      "Epoch 46/100\n",
      "396/396 - 1s - loss: 301.5598 - val_loss: 378.6673 - 1s/epoch - 3ms/step\n",
      "Epoch 47/100\n",
      "396/396 - 1s - loss: 299.1253 - val_loss: 346.9495 - 1s/epoch - 3ms/step\n",
      "Epoch 48/100\n",
      "396/396 - 1s - loss: 299.4599 - val_loss: 570.3575 - 1s/epoch - 3ms/step\n",
      "Epoch 49/100\n",
      "396/396 - 1s - loss: 301.6290 - val_loss: 346.0559 - 1s/epoch - 3ms/step\n",
      "Epoch 50/100\n",
      "396/396 - 1s - loss: 298.2372 - val_loss: 373.2748 - 1s/epoch - 3ms/step\n",
      "Epoch 51/100\n",
      "396/396 - 1s - loss: 298.7578 - val_loss: 365.6168 - 1s/epoch - 3ms/step\n",
      "Epoch 52/100\n",
      "396/396 - 1s - loss: 298.2599 - val_loss: 352.2514 - 1s/epoch - 3ms/step\n",
      "Epoch 53/100\n",
      "396/396 - 1s - loss: 299.7467 - val_loss: 338.6121 - 1s/epoch - 3ms/step\n",
      "Epoch 54/100\n",
      "396/396 - 2s - loss: 294.3461 - val_loss: 342.3588 - 2s/epoch - 4ms/step\n",
      "Epoch 55/100\n",
      "396/396 - 2s - loss: 295.5774 - val_loss: 342.3887 - 2s/epoch - 5ms/step\n",
      "Epoch 56/100\n",
      "396/396 - 1s - loss: 290.1704 - val_loss: 332.1163 - 1s/epoch - 3ms/step\n",
      "Epoch 57/100\n",
      "396/396 - 2s - loss: 294.8645 - val_loss: 425.2279 - 2s/epoch - 4ms/step\n",
      "Epoch 58/100\n",
      "396/396 - 1s - loss: 292.5716 - val_loss: 383.8871 - 1s/epoch - 3ms/step\n",
      "Epoch 59/100\n",
      "396/396 - 1s - loss: 292.1149 - val_loss: 414.1845 - 1s/epoch - 3ms/step\n",
      "Epoch 60/100\n",
      "396/396 - 2s - loss: 289.1008 - val_loss: 410.0485 - 2s/epoch - 4ms/step\n",
      "Epoch 61/100\n",
      "396/396 - 1s - loss: 292.7104 - val_loss: 379.9368 - 1s/epoch - 3ms/step\n",
      "Epoch 62/100\n",
      "396/396 - 1s - loss: 289.4134 - val_loss: 387.4789 - 1s/epoch - 3ms/step\n",
      "Epoch 63/100\n",
      "396/396 - 1s - loss: 290.0431 - val_loss: 334.1192 - 1s/epoch - 3ms/step\n",
      "Epoch 64/100\n",
      "396/396 - 2s - loss: 287.5277 - val_loss: 350.7725 - 2s/epoch - 5ms/step\n",
      "Epoch 65/100\n",
      "396/396 - 2s - loss: 290.9931 - val_loss: 362.4308 - 2s/epoch - 4ms/step\n",
      "Epoch 66/100\n",
      "396/396 - 1s - loss: 287.2457 - val_loss: 342.1213 - 1s/epoch - 3ms/step\n",
      "Epoch 67/100\n",
      "396/396 - 1s - loss: 286.6124 - val_loss: 337.5467 - 1s/epoch - 3ms/step\n",
      "Epoch 68/100\n",
      "396/396 - 1s - loss: 287.0233 - val_loss: 362.6133 - 1s/epoch - 3ms/step\n",
      "Epoch 69/100\n",
      "396/396 - 2s - loss: 289.5145 - val_loss: 477.4669 - 2s/epoch - 4ms/step\n",
      "Epoch 70/100\n",
      "396/396 - 1s - loss: 289.9118 - val_loss: 349.1082 - 1s/epoch - 3ms/step\n",
      "Epoch 71/100\n",
      "396/396 - 1s - loss: 282.6081 - val_loss: 342.5207 - 1s/epoch - 3ms/step\n",
      "Epoch 72/100\n",
      "396/396 - 1s - loss: 284.7659 - val_loss: 346.7356 - 1s/epoch - 3ms/step\n",
      "Epoch 73/100\n",
      "396/396 - 1s - loss: 283.5876 - val_loss: 369.4239 - 1s/epoch - 3ms/step\n",
      "Epoch 74/100\n",
      "396/396 - 2s - loss: 283.6302 - val_loss: 347.1711 - 2s/epoch - 4ms/step\n",
      "Epoch 75/100\n",
      "396/396 - 2s - loss: 285.1043 - val_loss: 333.0989 - 2s/epoch - 4ms/step\n",
      "Epoch 76/100\n",
      "396/396 - 1s - loss: 282.0132 - val_loss: 340.2242 - 1s/epoch - 3ms/step\n",
      "Epoch 77/100\n",
      "396/396 - 1s - loss: 285.9760 - val_loss: 355.7374 - 1s/epoch - 3ms/step\n",
      "Epoch 78/100\n",
      "396/396 - 1s - loss: 281.3042 - val_loss: 336.2724 - 1s/epoch - 3ms/step\n",
      "Epoch 79/100\n",
      "396/396 - 1s - loss: 279.5742 - val_loss: 419.5269 - 1s/epoch - 3ms/step\n",
      "Epoch 80/100\n",
      "396/396 - 1s - loss: 283.8951 - val_loss: 336.4413 - 1s/epoch - 3ms/step\n",
      "Epoch 81/100\n",
      "396/396 - 2s - loss: 279.7249 - val_loss: 372.9170 - 2s/epoch - 4ms/step\n",
      "Epoch 82/100\n",
      "396/396 - 1s - loss: 279.0669 - val_loss: 339.4019 - 1s/epoch - 3ms/step\n",
      "Epoch 83/100\n",
      "396/396 - 1s - loss: 279.3525 - val_loss: 374.1328 - 1s/epoch - 3ms/step\n",
      "Epoch 84/100\n",
      "396/396 - 1s - loss: 281.4257 - val_loss: 334.7868 - 1s/epoch - 3ms/step\n",
      "Epoch 85/100\n",
      "396/396 - 2s - loss: 279.0708 - val_loss: 336.1787 - 2s/epoch - 5ms/step\n",
      "Epoch 86/100\n",
      "396/396 - 2s - loss: 278.8729 - val_loss: 419.0165 - 2s/epoch - 4ms/step\n",
      "Epoch 87/100\n",
      "396/396 - 1s - loss: 280.4566 - val_loss: 368.7137 - 1s/epoch - 3ms/step\n",
      "Epoch 88/100\n",
      "396/396 - 1s - loss: 279.8696 - val_loss: 441.2822 - 1s/epoch - 3ms/step\n",
      "Epoch 89/100\n",
      "396/396 - 1s - loss: 275.6768 - val_loss: 331.8590 - 1s/epoch - 3ms/step\n",
      "Epoch 90/100\n",
      "396/396 - 1s - loss: 276.7908 - val_loss: 347.6359 - 1s/epoch - 3ms/step\n",
      "Epoch 91/100\n",
      "396/396 - 1s - loss: 275.0640 - val_loss: 335.6894 - 1s/epoch - 3ms/step\n",
      "Epoch 92/100\n",
      "396/396 - 1s - loss: 278.7513 - val_loss: 358.7258 - 1s/epoch - 3ms/step\n",
      "Epoch 93/100\n",
      "396/396 - 2s - loss: 276.9987 - val_loss: 338.7321 - 2s/epoch - 5ms/step\n",
      "Epoch 94/100\n",
      "396/396 - 1s - loss: 277.0190 - val_loss: 359.1122 - 1s/epoch - 3ms/step\n",
      "Epoch 95/100\n",
      "396/396 - 2s - loss: 278.0655 - val_loss: 336.5026 - 2s/epoch - 4ms/step\n",
      "Epoch 96/100\n",
      "396/396 - 2s - loss: 273.3604 - val_loss: 330.2446 - 2s/epoch - 4ms/step\n",
      "Epoch 97/100\n",
      "396/396 - 1s - loss: 275.6647 - val_loss: 350.4232 - 1s/epoch - 3ms/step\n",
      "Epoch 98/100\n",
      "396/396 - 1s - loss: 271.0495 - val_loss: 332.7866 - 1s/epoch - 3ms/step\n",
      "Epoch 99/100\n",
      "396/396 - 1s - loss: 275.7220 - val_loss: 344.9976 - 962ms/epoch - 2ms/step\n",
      "Epoch 100/100\n",
      "396/396 - 1s - loss: 276.3132 - val_loss: 361.3828 - 1s/epoch - 3ms/step\n"
     ]
    },
    {
     "data": {
      "text/plain": [
       "<keras.src.callbacks.History at 0x7e9f9383e5c0>"
      ]
     },
     "execution_count": 27,
     "metadata": {},
     "output_type": "execute_result"
    }
   ],
   "source": [
    "# Model architecture - Relu used as activation function, 4 hidden layers, Stochastic Gradient Descent optimizer\n",
    "model = keras.Sequential()\n",
    "model.add(keras.layers.Dense(32, input_shape=[X_train.shape[1]]))\n",
    "model.add(keras.layers.Activation(\"relu\"))\n",
    "model.add(keras.layers.Dense(16))\n",
    "model.add(keras.layers.Activation(\"relu\"))\n",
    "model.add(keras.layers.Dense(8))\n",
    "model.add(keras.layers.Activation(\"relu\"))\n",
    "model.add(keras.layers.Dense(4))\n",
    "model.add(keras.layers.Activation(\"relu\"))\n",
    "model.add(keras.layers.Dense(1))\n",
    "model.compile(tf.keras.optimizers.SGD(learning_rate = 1e-4), 'mean_squared_error')\n",
    "model.fit(X_train, y_train, epochs = 100, batch_size = 64, verbose = 2, validation_data = (X_test, y_test))\n"
   ]
  },
  {
   "cell_type": "code",
   "execution_count": 28,
   "metadata": {
    "colab": {
     "base_uri": "https://localhost:8080/"
    },
    "id": "NjcOGiFN82I3",
    "outputId": "5310e2e1-55f3-46ec-de72-948e16d33bcc"
   },
   "outputs": [
    {
     "name": "stdout",
     "output_type": "stream",
     "text": [
      "339/339 [==============================] - 2s 6ms/step\n"
     ]
    }
   ],
   "source": [
    "# Predict Price\n",
    "prediction = model.predict(X_test)\n"
   ]
  },
  {
   "cell_type": "code",
   "execution_count": 29,
   "metadata": {
    "colab": {
     "base_uri": "https://localhost:8080/"
    },
    "id": "jd2A5jBIv3rs",
    "outputId": "1d1a0357-83ac-4ea0-c3e2-ca7e3fd0ff34"
   },
   "outputs": [
    {
     "name": "stdout",
     "output_type": "stream",
     "text": [
      "MSE: 361.3828255431805\n",
      "RMSE: 19.010071686955325\n",
      "MAE: 13.092309341364732\n"
     ]
    }
   ],
   "source": [
    "# Mean Squared Error (MSE)\n",
    "mse = mean_squared_error(y_test, prediction)\n",
    "\n",
    "# Root Mean Squared Error (RMSE)\n",
    "rmse = np.sqrt(mse)\n",
    "\n",
    "# Mean Absolute Error (MAE)\n",
    "mae = mean_absolute_error(y_test, prediction)\n",
    "\n",
    "# Printing the values\n",
    "print(f\"MSE: {mse}\")\n",
    "print(f\"RMSE: {rmse}\")\n",
    "print(f\"MAE: {mae}\")"
   ]
  },
  {
   "cell_type": "code",
   "execution_count": 30,
   "metadata": {
    "colab": {
     "base_uri": "https://localhost:8080/",
     "height": 463
    },
    "id": "jAM1KtfXU38F",
    "outputId": "1ed7490c-55f1-426e-b65c-5f3a89b512b4"
   },
   "outputs": [
    {
     "data": {
      "image/png": "[encoded data removed]",
      "text/plain": [
       "<Figure size 640x480 with 1 Axes>"
      ]
     },
     "metadata": {},
     "output_type": "display_data"
    }
   ],
   "source": [
    "# Visualization\n",
    "plt.scatter(y_test, prediction, s=20, marker='o', edgecolor=['blue'], c='none')\n",
    "plt.xlabel('Actual price', fontsize=20)\n",
    "plt.ylabel('Predicted price', fontsize=20)\n",
    "plt.show()"
   ]
  }
 ],
 "metadata": {
  "colab": {
   "provenance": []
  },
  "kernelspec": {
   "display_name": "Python 3 (ipykernel)",
   "language": "python",
   "name": "python3"
  },
  "language_info": {
   "codemirror_mode": {
    "name": "ipython",
    "version": 3
   },
   "file_extension": ".py",
   "mimetype": "text/x-python",
   "name": "python",
   "nbconvert_exporter": "python",
   "pygments_lexer": "ipython3",
   "version": "3.12.0"
  }
 },
 "nbformat": 4,
 "nbformat_minor": 4
}
